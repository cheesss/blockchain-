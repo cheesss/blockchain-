{
  "nbformat": 4,
  "nbformat_minor": 0,
  "metadata": {
    "colab": {
      "name": "BIG_PY.ipynb",
      "provenance": [],
      "authorship_tag": "ABX9TyNoV9oS8A0aFZWwoBNBh5KA",
      "include_colab_link": true
    },
    "kernelspec": {
      "name": "python3",
      "display_name": "Python 3"
    },
    "language_info": {
      "name": "python"
    }
  },
  "cells": [
    {
      "cell_type": "markdown",
      "metadata": {
        "id": "view-in-github",
        "colab_type": "text"
      },
      "source": [
        "<a href=\"https://colab.research.google.com/github/cheesss/blockchain-/blob/main/BIG_PY.ipynb\" target=\"_parent\"><img src=\"https://colab.research.google.com/assets/colab-badge.svg\" alt=\"Open In Colab\"/></a>"
      ]
    },
    {
      "cell_type": "code",
      "source": [
        "1+1\n"
      ],
      "metadata": {
        "colab": {
          "base_uri": "https://localhost:8080/"
        },
        "id": "lfIwPCHsns_U",
        "outputId": "f09b8f27-b479-48e1-c573-0f3682b62c31"
      },
      "execution_count": null,
      "outputs": [
        {
          "output_type": "execute_result",
          "data": {
            "text/plain": [
              "2"
            ]
          },
          "metadata": {},
          "execution_count": 1
        }
      ]
    },
    {
      "cell_type": "code",
      "source": [
        ""
      ],
      "metadata": {
        "id": "MXvITk_5ouiE"
      },
      "execution_count": null,
      "outputs": []
    },
    {
      "cell_type": "code",
      "source": [
        "None = 10"
      ],
      "metadata": {
        "colab": {
          "base_uri": "https://localhost:8080/",
          "height": 136
        },
        "id": "aH4ooItvnyv2",
        "outputId": "ecfffe9b-4f82-47f2-caca-771317a2b13e"
      },
      "execution_count": null,
      "outputs": [
        {
          "output_type": "error",
          "ename": "SyntaxError",
          "evalue": "ignored",
          "traceback": [
            "\u001b[0;36m  File \u001b[0;32m\"<ipython-input-3-f914dbb6ae5e>\"\u001b[0;36m, line \u001b[0;32m1\u001b[0m\n\u001b[0;31m    None = 10\u001b[0m\n\u001b[0m             ^\u001b[0m\n\u001b[0;31mSyntaxError\u001b[0m\u001b[0;31m:\u001b[0m can't assign to keyword\n"
          ]
        }
      ]
    },
    {
      "cell_type": "code",
      "source": [
        "None1 = 10\n",
        "import"
      ],
      "metadata": {
        "id": "rSOBwCwBn8Bk"
      },
      "execution_count": null,
      "outputs": []
    },
    {
      "cell_type": "code",
      "source": [
        "num = 10"
      ],
      "metadata": {
        "id": "nQZ0iYofrBFT"
      },
      "execution_count": null,
      "outputs": []
    },
    {
      "cell_type": "code",
      "source": [
        "5 < num < 30 #이런것도 된다."
      ],
      "metadata": {
        "colab": {
          "base_uri": "https://localhost:8080/"
        },
        "id": "jpkKGgzxrJcL",
        "outputId": "4dde2d7c-f06f-4f68-a9dd-66b2e1d88467"
      },
      "execution_count": null,
      "outputs": [
        {
          "output_type": "execute_result",
          "data": {
            "text/plain": [
              "True"
            ]
          },
          "metadata": {},
          "execution_count": 9
        }
      ]
    },
    {
      "cell_type": "code",
      "source": [
        "PI = 3.14\n",
        "r = 5\n",
        "v = 4/3 * PI *r**3\n",
        "print(v)"
      ],
      "metadata": {
        "id": "PwqELZy_raV8",
        "colab": {
          "base_uri": "https://localhost:8080/"
        },
        "outputId": "d5de7781-d2e5-453b-c1e7-e49fb67e0dad"
      },
      "execution_count": 1,
      "outputs": [
        {
          "output_type": "stream",
          "name": "stdout",
          "text": [
            "523.3333333333334\n"
          ]
        }
      ]
    },
    {
      "cell_type": "code",
      "source": [
        "p=24.95\n",
        "sp = p * 0.6\n",
        "num = 60\n",
        "basongbee = 0.75\n",
        "total = (sp * num) + (basongbee*num)\n",
        "print(total)"
      ],
      "metadata": {
        "colab": {
          "base_uri": "https://localhost:8080/"
        },
        "id": "o6-H-1ETzPQa",
        "outputId": "baf65294-0a34-49cb-d837-c11f269b35ea"
      },
      "execution_count": 3,
      "outputs": [
        {
          "output_type": "stream",
          "name": "stdout",
          "text": [
            "943.1999999999999\n"
          ]
        }
      ]
    },
    {
      "cell_type": "code",
      "source": [
        "not ( 300 or ( False ) )"
      ],
      "metadata": {
        "colab": {
          "base_uri": "https://localhost:8080/"
        },
        "id": "dyS_cv1X0ay7",
        "outputId": "300711d3-ffdd-4ea5-b6ca-0caa7f10bf1e"
      },
      "execution_count": 4,
      "outputs": [
        {
          "output_type": "execute_result",
          "data": {
            "text/plain": [
              "False"
            ]
          },
          "metadata": {},
          "execution_count": 4
        }
      ]
    },
    {
      "cell_type": "code",
      "source": [
        "print(\"판단하고싶은 년도를 입력하시오: \")\n",
        "y = float(input())\n",
        "if (y%4 == 0) :\n",
        "    if(y%100 == 0) :\n",
        "      if (y%400 == 0):\n",
        "        print(y,\"는 윤년입니다.\")\n",
        "    else:\n",
        "      print(y,\"는 윤년이 아닙니다.\")\n",
        "else:\n",
        "    print(y,\"는 윤년이 아닙니다.\")"
      ],
      "metadata": {
        "colab": {
          "base_uri": "https://localhost:8080/"
        },
        "id": "RkMfobK00p_s",
        "outputId": "608179b6-afa9-4ceb-9803-d3343339857d"
      },
      "execution_count": 10,
      "outputs": [
        {
          "output_type": "stream",
          "name": "stdout",
          "text": [
            "판단하고싶은 년도를 입력하시오: \n",
            "400\n",
            "400.0 는 윤년입니다.\n"
          ]
        }
      ]
    },
    {
      "cell_type": "code",
      "source": [
        ""
      ],
      "metadata": {
        "id": "NT1C_KqgBwgh"
      },
      "execution_count": null,
      "outputs": []
    }
  ]
}